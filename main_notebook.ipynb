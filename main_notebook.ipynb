{
 "cells": [
  {
   "cell_type": "code",
   "execution_count": 1,
   "id": "1e028e40-154f-43c5-be5c-95bd08f2acf5",
   "metadata": {},
   "outputs": [],
   "source": [
    "import qrcode\n",
    "import PIL\n",
    "import json\n",
    "from qreader import QReader\n",
    "import cv2\n",
    "\n",
    "#just for jupyterlab testing\n",
    "from IPython.display import Image\n",
    "from ipywidgets import interact\n",
    "\n",
    "#just doin this first cause it takes some time\n",
    "qreader = QReader()"
   ]
  },
  {
   "cell_type": "code",
   "execution_count": 7,
   "id": "929e5a41-d4e4-4a62-b631-f143eeaa707f",
   "metadata": {},
   "outputs": [
    {
     "name": "stdout",
     "output_type": "stream",
     "text": [
      "{'ssid': 'helloworld', 'pwd': 'dontcomein'}\n"
     ]
    },
    {
     "data": {
      "image/png": "[encoded data removed]",
      "text/plain": [
       "<IPython.core.display.Image object>"
      ]
     },
     "execution_count": 7,
     "metadata": {},
     "output_type": "execute_result"
    }
   ],
   "source": [
    "\n",
    "\n",
    "def encode_qr(creds,path):\n",
    "    img = qrcode.make(creds)\n",
    "    type(img)\n",
    "    img.save(path)\n",
    "\n",
    "ssid=\"helloworld\"\n",
    "pwd=\"dontcomein\"\n",
    "#fake wifi creds\n",
    "creds_to_encode={\n",
    "    \"ssid\":ssid,\n",
    "    \"pwd\":pwd}\n",
    "some_path=\"test.png\"\n",
    "\n",
    "print(creds_to_encode)\n",
    "encode_qr(creds_to_encode,some_path)\n",
    "\n",
    "Image(some_path)\n",
    "\n",
    "\n"
   ]
  },
  {
   "cell_type": "code",
   "execution_count": 36,
   "id": "ef58a7a4-66a4-4c50-9b35-b3f9e5b2212d",
   "metadata": {},
   "outputs": [
    {
     "name": "stdout",
     "output_type": "stream",
     "text": [
      "0.9501312375068665\n",
      "{'ssid': 'testing_1234', 'pwd': 'dontcomein'}\n"
     ]
    }
   ],
   "source": [
    "#PI side initial idea...\n",
    "\n",
    "#We want some background process that when a button is pushed, takes a photo with the arducam, then reads the qr code and if valid adds the network to the pi.\n",
    "#i want error checks, perhaps add an led to detect the following:\n",
    "#1.if the qr code is even detected (confidence > x)\n",
    "#2.if the qr code contained a valid payload (it was a json obj, had a ssid and pwd)\n",
    "#3 if the pi was able to connect to the internet with the valid payload\n",
    "\n",
    "\n",
    "\n",
    "\n",
    "\n",
    "def get_confidence(image):  \n",
    "    return qreader.detect(image)[0][\"confidence\"]\n",
    "\n",
    "def get_text(image):\n",
    "    text = qreader.detect_and_decode(image=image)[0]\n",
    "    text=text.replace(\"'\",\"\\\"\")\n",
    "    loaded_text=json.loads(text)\n",
    "    return loaded_text\n",
    "\n",
    "some_path=\"test.png\"\n",
    "try:\n",
    "    image = cv2.cvtColor(cv2.imread(some_path), cv2.COLOR_BGR2RGB)\n",
    "except:\n",
    "    print(\"error loading image\")\n",
    "\n",
    "\n",
    "\n",
    "print(get_confidence(image))\n",
    "x= get_text(image)\n",
    "print(x)"
   ]
  },
  {
   "cell_type": "code",
   "execution_count": null,
   "id": "bee23dc6-47b5-413c-8733-c775ed15ec3b",
   "metadata": {},
   "outputs": [],
   "source": []
  }
 ],
 "metadata": {
  "kernelspec": {
   "display_name": "Python 3 (ipykernel)",
   "language": "python",
   "name": "python3"
  },
  "language_info": {
   "codemirror_mode": {
    "name": "ipython",
    "version": 3
   },
   "file_extension": ".py",
   "mimetype": "text/x-python",
   "name": "python",
   "nbconvert_exporter": "python",
   "pygments_lexer": "ipython3",
   "version": "3.11.9"
  }
 },
 "nbformat": 4,
 "nbformat_minor": 5
}
